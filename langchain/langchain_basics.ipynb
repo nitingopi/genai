{
 "cells": [
  {
   "cell_type": "code",
   "execution_count": 10,
   "metadata": {},
   "outputs": [],
   "source": [
    "# from openai import OpenAI\n",
    "import os\n",
    "from pprint import pprint\n",
    "from dotenv import load_dotenv, find_dotenv\n",
    "_ = load_dotenv(find_dotenv())\n",
    "# client = OpenAI(\n",
    "#     # This is the default and can be omitted\n",
    "#     api_key=os.environ.get(\"OPENAI_API_KEY\"),\n",
    "# )\n",
    "\n"
   ]
  },
  {
   "cell_type": "code",
   "execution_count": 6,
   "metadata": {},
   "outputs": [],
   "source": [
    "from langchain_openai import ChatOpenAI\n",
    "\n",
    "llm = ChatOpenAI()"
   ]
  },
  {
   "cell_type": "code",
   "execution_count": 8,
   "metadata": {},
   "outputs": [],
   "source": [
    "response = llm.invoke(\"how can langsmith help with testing?\")\n"
   ]
  },
  {
   "cell_type": "code",
   "execution_count": 13,
   "metadata": {},
   "outputs": [
    {
     "name": "stdout",
     "output_type": "stream",
     "text": [
      "Langsmith can help with testing in several ways:\n",
      "\n",
      "1. Automated testing: Langsmith can be used to write automated tests for software applications, helping to ensure that they function correctly and efficiently.\n",
      "\n",
      "2. Test case generation: Langsmith can be used to generate test cases based on specific requirements, helping to streamline the testing process and ensure comprehensive coverage.\n",
      "\n",
      "3. Bug detection: Langsmith can be used to detect and report bugs in software applications, helping to identify and fix issues before they impact end users.\n",
      "\n",
      "4. Performance testing: Langsmith can be used to conduct performance testing on software applications, helping to identify and optimize areas of code that may be causing performance bottlenecks.\n",
      "\n",
      "Overall, Langsmith can help improve the efficiency and effectiveness of the testing process, leading to higher quality software applications.\n"
     ]
    }
   ],
   "source": [
    "print(response.content)"
   ]
  },
  {
   "cell_type": "code",
   "execution_count": 14,
   "metadata": {},
   "outputs": [],
   "source": [
    "from langchain_core.prompts import ChatPromptTemplate\n",
    "prompt = ChatPromptTemplate.from_messages([\n",
    "    (\"system\", \"You are world class technical documentation writer.\"),\n",
    "    (\"user\", \"{input}\")\n",
    "])"
   ]
  },
  {
   "cell_type": "code",
   "execution_count": 15,
   "metadata": {},
   "outputs": [],
   "source": [
    "chain = prompt | llm "
   ]
  },
  {
   "cell_type": "code",
   "execution_count": 17,
   "metadata": {},
   "outputs": [
    {
     "name": "stdout",
     "output_type": "stream",
     "text": [
      "Langsmith can help with testing in several ways:\n",
      "\n",
      "1. Automated testing: Langsmith can be used to generate test cases automatically, reducing the manual effort required for test case creation. This can help improve test coverage and identify edge cases that may not have been considered otherwise.\n",
      "\n",
      "2. Test data generation: Langsmith can be used to generate realistic test data for different scenarios, helping to ensure that the application is tested thoroughly with various inputs.\n",
      "\n",
      "3. Performance testing: Langsmith can be used to simulate different workload scenarios and generate load on the system to test its performance under stress. This can help identify performance bottlenecks and improve the overall performance of the system.\n",
      "\n",
      "4. Security testing: Langsmith can be used to generate security test cases to identify vulnerabilities in the application. By generating different types of malicious inputs, Langsmith can help uncover security flaws that may have been overlooked.\n",
      "\n",
      "Overall, Langsmith can be a valuable tool for testing teams to improve the efficiency and effectiveness of their testing efforts.\n"
     ]
    }
   ],
   "source": [
    "response = chain.invoke({\"input\": \"how can langsmith help with testing?\"})\n",
    "print(response.content)"
   ]
  },
  {
   "cell_type": "code",
   "execution_count": 18,
   "metadata": {},
   "outputs": [],
   "source": [
    "from langchain_core.output_parsers import StrOutputParser\n",
    "\n",
    "output_parser = StrOutputParser()"
   ]
  },
  {
   "cell_type": "code",
   "execution_count": 19,
   "metadata": {},
   "outputs": [],
   "source": [
    "chain = prompt | llm | output_parser"
   ]
  },
  {
   "cell_type": "code",
   "execution_count": 22,
   "metadata": {},
   "outputs": [],
   "source": [
    "response = chain.invoke({\"input\": \"how can langsmith help with testing?\"})\n"
   ]
  },
  {
   "cell_type": "code",
   "execution_count": 27,
   "metadata": {},
   "outputs": [
    {
     "name": "stdout",
     "output_type": "stream",
     "text": [
      "Langsmith can help with testing in several ways:\n",
      "\n",
      "1. Automated Testing: Langsmith can be used to generate sample data for testing purposes, helping to automate the testing process and ensure comprehensive test coverage.\n",
      "\n",
      "2. Stress Testing: By generating large volumes of data, Langsmith can be used to test the performance and scalability of applications under stress conditions.\n",
      "\n",
      "3. Edge Case Testing: Langsmith can be used to create edge cases and corner scenarios that may not be easily identifiable during manual testing, helping to uncover potential bugs or vulnerabilities.\n",
      "\n",
      "4. Data Validation: Langsmith can be used to validate the integrity and accuracy of data inputs and outputs, ensuring that the system behaves as expected under various conditions.\n",
      "\n",
      "5. Regression Testing: Langsmith can be used to generate consistent test data for regression testing, helping to ensure that new code changes do not introduce unintended side effects or break existing functionality.\n",
      "\n",
      "Overall, Langsmith can streamline the testing process, improve test coverage, and help identify potential issues early in the development cycle.\n"
     ]
    }
   ],
   "source": [
    "print(response)"
   ]
  }
 ],
 "metadata": {
  "kernelspec": {
   "display_name": "genai_env",
   "language": "python",
   "name": "python3"
  },
  "language_info": {
   "codemirror_mode": {
    "name": "ipython",
    "version": 3
   },
   "file_extension": ".py",
   "mimetype": "text/x-python",
   "name": "python",
   "nbconvert_exporter": "python",
   "pygments_lexer": "ipython3",
   "version": "3.10.12"
  }
 },
 "nbformat": 4,
 "nbformat_minor": 2
}
