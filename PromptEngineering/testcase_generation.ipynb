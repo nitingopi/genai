{
 "cells": [
  {
   "cell_type": "code",
   "execution_count": 1,
   "metadata": {},
   "outputs": [],
   "source": [
    "from openai import OpenAI\n",
    "from dotenv import load_dotenv\n",
    "load_dotenv()  # take environment variables from .env.\n",
    "\n",
    "\n",
    "client = OpenAI()\n",
    "# defaults to getting the key using os.environ.get(\"OPENAI_API_KEY\")\n",
    "# if you saved the key under a different environment variable name, you can do something like:\n",
    "# client = OpenAI(\n",
    "#   api_key=os.environ.get(\"CUSTOM_ENV_NAME\"),\n",
    "# )"
   ]
  },
  {
   "cell_type": "code",
   "execution_count": 4,
   "metadata": {},
   "outputs": [],
   "source": [
    "def get_completion(prompt, model=\"gpt-3.5-turbo\"):\n",
    "    messages = [{\"role\": \"user\", \"content\": prompt}]\n",
    "    response = client.chat.completions.create(\n",
    "        model=model,\n",
    "        messages=messages,\n",
    "        temperature=0, # this is the degree of randomness of the model's output\n",
    "    )\n",
    "    return response.choices[0].message.content\n"
   ]
  },
  {
   "cell_type": "code",
   "execution_count": 2,
   "metadata": {},
   "outputs": [],
   "source": [
    "user_story = \"\"\"\n",
    "User Story: As a customer, I want to be able to search for products by name, brand, category, or a combination of these, with suggestions appearing as I type, so I can easily find the specific item I need.\n",
    "\n",
    "Use Cases:\n",
    "User searches for a specific product name (e.g., \"red running shoes\").\n",
    "User searches for a brand name (e.g., \"LEGO\").\n",
    "User searches for a combination (e.g., \"wireless headphones with noise cancellation\").\n",
    "Limitations:\n",
    "Search results might not be perfect and may require some browsing for the exact item.\n",
    "The website might not understand misspelled keywords.\n",
    "Extra Information:\n",
    "Search suggestions should be relevant and update dynamically as the user types.\n",
    "The search function should allow for searching by partial product names or descriptions.\n",
    "Edge Cases:\n",
    "User searches for a misspelling of a product name. The website should suggest possible corrections or similar products.\n",
    "User searches for a very generic term (e.g., \"gift\"). The website could offer a curated selection of popular gift items or suggest using filters to refine the search.\n",
    "\"\"\""
   ]
  },
  {
   "cell_type": "code",
   "execution_count": 3,
   "metadata": {},
   "outputs": [],
   "source": [
    "test_cases = \"\"\"\n",
    "Positive Test Cases:\n",
    "\n",
    " TC01: User successfully browses the website and sees all available clothing items categorized by type (dresses, shirts, pants).\n",
    " TC02: User searches for \"wireless headphones with noise cancellation\" and finds relevant products in the search results.\n",
    " TC03: User adds a single red running shoe (size 8) to their shopping cart.\n",
    " TC04: User views their cart, updates the quantity of the red running shoe to 2, and verifies the total price reflects the change.\n",
    " TC05: User enters a valid shipping address and selects standard delivery during checkout.\n",
    " TC06: User successfully completes their purchase using a credit card and receives a confirmation email with order details.\n",
    "\n",
    "Negative Test Cases:\n",
    "\n",
    " TC07: User searches for a non-existent product category (\"alien costumes\") and the website displays a helpful message suggesting browsing by all categories.\n",
    " TC08: User enters a misspelling of a product name (\"blue tee shrtt\") and the website suggests possible corrections or similar products.\n",
    " TC09: User tries to add an out-of-stock product to their cart and receives an error message with alternative product suggestions.\n",
    " TC10: User enters an invalid credit card number during checkout and the payment fails with an appropriate error message.\n",
    " TC11: User abandons their cart before checkout and the website allows them to resume adding items when they return.\n",
    "\n",
    "Edge Cases:\n",
    "\n",
    " TC12: User has a very specific search criteria (e.g., \"left-handed gaming mouse with programmable buttons\") and the website suggests using advanced filtering options (if available) or browsing relevant categories.\n",
    " TC13: User's internet connection drops while adding items to their cart. The website attempts to save the cart progress and allows the user to resume adding items when reconnected.\n",
    " TC14: User tries to checkout with an empty cart and the website displays an error message prompting them to add items.\n",
    " TC15: User enters an incomplete shipping address during checkout and the website highlights missing information.\n",
    "\n",
    "Additional Notes:\n",
    "\n",
    " These are just examples, and the specific test cases will vary depending on the functionalities of the e-commerce application.\n",
    " The format can be adjusted to include additional details like expected user actions, system responses, and pass/fail criteria. \n",
    "\"\"\""
   ]
  },
  {
   "cell_type": "code",
   "execution_count": 5,
   "metadata": {},
   "outputs": [
    {
     "name": "stdout",
     "output_type": "stream",
     "text": [
      "Test Cases:\n",
      "\n",
      "Positive Test Cases:\n",
      "\n",
      "TC01: User searches for \"red running shoes\" and sees relevant suggestions appearing as they type, making it easy to find the specific item.\n",
      "TC02: User searches for \"LEGO\" and finds a variety of LEGO products from different categories.\n",
      "TC03: User searches for \"wireless headphones with noise cancellation\" and sees relevant products in the search results.\n",
      "TC04: User searches for a combination of keywords like \"red dress\" and sees suggestions for dresses in red color.\n",
      "TC05: User searches for a partial product name like \"runn\" and still gets relevant suggestions for running shoes.\n",
      "\n",
      "Negative Test Cases:\n",
      "\n",
      "TC06: User misspells the product name as \"red runnig shoes\" and the website does not suggest any corrections or similar products.\n",
      "TC07: User searches for a very generic term like \"gift\" and the website does not offer any curated selection or suggest using filters.\n",
      "TC08: User searches for a non-existent brand name and the website does not provide any relevant suggestions.\n",
      "TC09: User searches for a combination of keywords that do not match any products in the database and the website displays a message indicating no results found.\n",
      "\n",
      "Edge Cases:\n",
      "\n",
      "TC10: User searches for a misspelling of a product name like \"blue tee shrtt\" and the website suggests possible corrections or similar products.\n",
      "TC11: User searches for a very specific term like \"left-handed gaming mouse with programmable buttons\" and the website suggests using advanced filtering options or browsing relevant categories.\n",
      "TC12: User searches for a partial brand name like \"Adi\" and the website suggests popular brands starting with \"Adi\" like Adidas.\n",
      "TC13: User's internet connection drops while typing in the search bar and the website attempts to save the search query and suggests relevant products when reconnected.\n"
     ]
    }
   ],
   "source": [
    "prompt = f\"\"\"\n",
    "Your task is to generate test cases from user stories.\n",
    "The sample test case is below delimited by triple backlits\n",
    "test case: ```{test_cases}``` \n",
    "\n",
    "Create test cases from the user story below delimited by triple backlits\n",
    "User story: ```{user_story}```\n",
    "\"\"\"\n",
    "\n",
    "response = get_completion(prompt)\n",
    "print(response)\n"
   ]
  },
  {
   "cell_type": "code",
   "execution_count": null,
   "metadata": {},
   "outputs": [],
   "source": []
  }
 ],
 "metadata": {
  "kernelspec": {
   "display_name": "genai_env",
   "language": "python",
   "name": "python3"
  },
  "language_info": {
   "codemirror_mode": {
    "name": "ipython",
    "version": 3
   },
   "file_extension": ".py",
   "mimetype": "text/x-python",
   "name": "python",
   "nbconvert_exporter": "python",
   "pygments_lexer": "ipython3",
   "version": "3.10.12"
  }
 },
 "nbformat": 4,
 "nbformat_minor": 2
}
